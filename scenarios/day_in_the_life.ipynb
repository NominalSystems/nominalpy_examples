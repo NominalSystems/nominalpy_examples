{
 "cells": [
  {
   "cell_type": "markdown",
   "source": [
    "# Day-in-the-Life Simulation of a Satellite\n",
    "This Jupyter Notebook demonstrates a day-in-the-life simulation of a satellite in orbit using the `nominalpy` library. The simulation covers various subsystems, including:\n",
    "- Attitude and Orbit Control System (AOCS)\n",
    "- Power Management\n",
    "- Telemetry, Tracking & Command (TT&C), and \n",
    "    - Three ground-stations\n",
    "    - Commands will drive the satellite's operation\n",
    "- Mission Operations.\n",
    "    - The mission includes an optical payload for simulating image capture\n",
    "    - The mission will feature on-board data storage management\n",
    "  \n"
   ],
   "metadata": {
    "collapsed": false
   },
   "id": "68387c2e92d50c47"
  },
  {
   "cell_type": "code",
   "outputs": [],
   "source": [
    "# Install and import necessary libraries\n",
    "import os\n",
    "import numpy as np\n",
    "from datetime import datetime\n",
    "\n",
    "from nominalpy import types, Object, Simulation, System\n",
    "from nominalpy.maths import astro\n",
    "from nominalpy.maths.computer_library import create_guidance_command\n",
    "from nominalpy.maths.constants import RPM\n",
    "from nominalpy.maths.data import megabytes_to_bits\n",
    "from nominalpy import Credentials\n"
   ],
   "metadata": {
    "collapsed": false,
    "ExecuteTime": {
     "end_time": "2024-09-02T07:54:17.667590Z",
     "start_time": "2024-09-02T07:54:16.850120Z"
    }
   },
   "id": "431009b875d0708f",
   "execution_count": 1
  },
  {
   "cell_type": "markdown",
   "source": [
    "## Authentication\n",
    "To run the simulation, you need to authenticate with the `nominalpy` API. You can obtain an API key by signing up at www.nominalsys.com. Once you have the API key, you can use it to authenticate with the API."
   ],
   "metadata": {
    "collapsed": false
   },
   "id": "1184c26a7f66ce07"
  },
  {
   "cell_type": "code",
   "outputs": [],
   "source": [
    "from credential_helper import fetch_credentials\n",
    "\n",
    "# Construct the credentials\n",
    "# fetch the key from the environment variables, or set it here\n",
    "key = os.environ.get('NOMINAL_API_KEY')\n",
    "\n",
    "\n",
    "credentials = fetch_credentials()"
   ],
   "metadata": {
    "collapsed": false,
    "ExecuteTime": {
     "end_time": "2024-09-02T07:54:17.677031Z",
     "start_time": "2024-09-02T07:54:17.668605Z"
    }
   },
   "id": "7f50cb52a2568c65",
   "execution_count": 2
  },
  {
   "cell_type": "markdown",
   "source": [
    "## Overview of the Simulation\n",
    "The simulation begins with initializing the satellite's orbit and adding key subsystems. The following sections will walk you through the setup and execution of the simulation.\n"
   ],
   "metadata": {
    "collapsed": false
   },
   "id": "acb5e51d3a657570"
  },
  {
   "cell_type": "code",
   "outputs": [],
   "source": [
    "# Initialize the simulation with a specific epoch\n",
    "\n",
    "simulation: Simulation = Simulation.get(credentials)"
   ],
   "metadata": {
    "collapsed": false,
    "ExecuteTime": {
     "end_time": "2024-09-02T07:54:19.841716Z",
     "start_time": "2024-09-02T07:54:17.678043Z"
    }
   },
   "id": "c742f5c9a08d9b9f",
   "execution_count": 3
  },
  {
   "cell_type": "markdown",
   "source": [
    "## Create the universe including the environment models"
   ],
   "metadata": {
    "collapsed": false
   },
   "id": "b2ca023b0e860ccf"
  },
  {
   "cell_type": "code",
   "outputs": [],
   "source": [
    "# universe configuration parameters\n",
    "planet = \"earth\"\n",
    "epoch = datetime(2021, 1, 15, hour=0, minute=28, second=30)\n",
    "# spherical harmonics model parameters\n",
    "harmonics = 0\n",
    "harmonics_file = \"GGM03S.txt\"\n",
    "# magnetic field model parameters\n",
    "G10 = -15463 \n",
    "G11 = -1159 \n",
    "H11 = 2908.5 \n",
    "min_reach = -1 \n",
    "max_reach = -1 "
   ],
   "metadata": {
    "collapsed": false,
    "ExecuteTime": {
     "end_time": "2024-09-02T07:54:19.845721Z",
     "start_time": "2024-09-02T07:54:19.842645Z"
    }
   },
   "id": "e073a467a565d335",
   "execution_count": 4
  },
  {
   "cell_type": "code",
   "outputs": [],
   "source": [
    "# create the universe\n",
    "universe: System = simulation.get_system(\n",
    "    types.SOLAR_SYSTEM,\n",
    "    Epoch=epoch\n",
    ")\n",
    "\n",
    "# add the spherical harmonics model for the Earth's gravity field\n",
    "if harmonics > 0:\n",
    "    universe.invoke(\"SetSphericalHarmonics\", planet, harmonics, harmonics_file)\n",
    "\n",
    "# add a magnetic field model for reaction wheel desaturation\n",
    "universe.invoke(\n",
    "    \"CreateMagneticFieldCenteredDipole\",\n",
    "    \"earth\",\n",
    "    G10,\n",
    "    G11,\n",
    "    H11,\n",
    "    min_reach,\n",
    "    max_reach,\n",
    ")"
   ],
   "metadata": {
    "collapsed": false,
    "ExecuteTime": {
     "end_time": "2024-09-02T07:54:20.142543Z",
     "start_time": "2024-09-02T07:54:19.846725Z"
    }
   },
   "id": "91e2ff1a81e2a067",
   "execution_count": 5
  },
  {
   "cell_type": "markdown",
   "source": [
    "## Create the satellite"
   ],
   "metadata": {
    "collapsed": false
   },
   "id": "54599988b79da221"
  },
  {
   "cell_type": "code",
   "outputs": [],
   "source": [
    "# satellite configuration parameters\n",
    "semi_major_axis = 7000e3  # m\n",
    "eccentricity = 0.001\n",
    "inclination = 97.5  # deg\n",
    "raan = 0  # deg\n",
    "arg_perigee = 0  # deg\n",
    "true_anomaly = 0  # deg\n",
    "\n",
    "# initial attitude and rate, defined in modified rodriquez parameters\n",
    "attitude = np.array([0.1, 0.2, -0.3])\n",
    "attitude_rate = np.array([0.001, -0.01, 0.03])"
   ],
   "metadata": {
    "collapsed": false,
    "ExecuteTime": {
     "end_time": "2024-09-02T07:54:20.147742Z",
     "start_time": "2024-09-02T07:54:20.144467Z"
    }
   },
   "id": "57410a77745ca454",
   "execution_count": 6
  },
  {
   "cell_type": "code",
   "outputs": [],
   "source": [
    "# convert the classical orbital elements to state vectors to initialise the orbit\n",
    "orbit: tuple = astro.classical_to_vector_elements_deg(\n",
    "    semi_major_axis=semi_major_axis,\n",
    "    eccentricity=eccentricity,\n",
    "    inclination=inclination,\n",
    "    right_ascension=raan,\n",
    "    argument_of_periapsis=arg_perigee,\n",
    "    true_anomaly=true_anomaly,\n",
    ")\n",
    "\n",
    "# add the satellite object to the simulation\n",
    "# nominalpy can either set the mass properties of the spacecraft manually or calculate them based on attached components. In this case, we will calculate them based on components by setting the OverrideMass property to False.\n",
    "spacecraft: Object = simulation.add_object(\n",
    "    types.SPACECRAFT,\n",
    "    Position=orbit[0],\n",
    "    Velocity=orbit[1],\n",
    "    Attitude=attitude,\n",
    "    AttitudeRate=attitude_rate,\n",
    "    OverrideMass=False\n",
    ")"
   ],
   "metadata": {
    "collapsed": false,
    "ExecuteTime": {
     "end_time": "2024-09-02T07:54:20.234068Z",
     "start_time": "2024-09-02T07:54:20.148749Z"
    }
   },
   "id": "e2db5253a2da5894",
   "execution_count": 7
  },
  {
   "cell_type": "markdown",
   "source": [
    "### Accounting for mass associated with components that we are NOT modelling\n",
    "In this demo, we account for a subset of components that are typically found on a satellite. We will calculate the mass properties of the spacecraft based on the components that we are modelling. However, there are components that we do not need to model, such as the structure, that add mass. We can account for these by defining a hub with inertia properties that represent the mass of the unmodelled components."
   ],
   "metadata": {
    "collapsed": false
   },
   "id": "64189523723e87d9"
  },
  {
   "cell_type": "code",
   "outputs": [],
   "source": [
    "# define the hub\n",
    "hub = spacecraft.add_child(\n",
    "    types.PHYSICAL_OBJECT,\n",
    ")\n",
    "mass = 500.0  # kg\n",
    "moi_hub = np.diag([900.0, 800.0, 600.0])  # kg m^2\n",
    "hub.set(Mass=mass)\n",
    "hub.set(MomentOfInertia_LB=moi_hub)"
   ],
   "metadata": {
    "collapsed": false,
    "ExecuteTime": {
     "end_time": "2024-09-02T07:54:20.521028Z",
     "start_time": "2024-09-02T07:54:20.235073Z"
    }
   },
   "id": "a701b57f7083071c",
   "execution_count": 8
  },
  {
   "cell_type": "markdown",
   "source": [
    "## Add the Attitude and Orbit Control System (AOCS)"
   ],
   "metadata": {
    "collapsed": false
   },
   "id": "89f097c9cec840f7"
  },
  {
   "cell_type": "markdown",
   "source": [
    "### AOCS configuration parameters"
   ],
   "metadata": {
    "collapsed": false
   },
   "id": "5b935e23e46a0451"
  },
  {
   "cell_type": "code",
   "outputs": [],
   "source": [
    "# add the AOCS configuration parameters\n",
    "\n",
    "# reaction wheel parameters\n",
    "rw_mass = 9.0  # kg\n",
    "beta = 52.0 * np.pi / 180.0\n",
    "omega = 100.0\n",
    "omega_max = 5000.0\n",
    "u_max = 0.2\n",
    "u_min = 0.00001\n",
    "max_momentum = 50.0\n",
    "f_coulomb = 0.0005\n",
    "f_static = 0.0\n",
    "beta_static = -1.0\n",
    "c_viscous = 0.0\n",
    "u_s = 2.8\n",
    "u_d = 0.77"
   ],
   "metadata": {
    "collapsed": false,
    "ExecuteTime": {
     "end_time": "2024-09-02T07:54:20.525899Z",
     "start_time": "2024-09-02T07:54:20.521028Z"
    }
   },
   "id": "258eea9b73457b52",
   "execution_count": 9
  },
  {
   "cell_type": "markdown",
   "source": [
    "### Add the AOCS Actuators"
   ],
   "metadata": {
    "collapsed": false
   },
   "id": "e97ed7a0adc2d80e"
  },
  {
   "cell_type": "code",
   "outputs": [],
   "source": [
    "# add the reaction wheel array that will contain each independent reaction wheel\n",
    "reaction_wheels: Object = spacecraft.add_child(\"ReactionWheelArray\")\n",
    "\n",
    "# add the reaction wheels to the reaction wheel array\n",
    "for spin_axis in [\n",
    "    np.array([1, 0, 0]),\n",
    "    np.array([0, 1, 0]),\n",
    "    np.array([0, 0, 1]),\n",
    "]:\n",
    "    reaction_wheels.add_child(\n",
    "        \"ReactionWheel\",\n",
    "        Mass=rw_mass,\n",
    "        WheelPosition_B=np.array([0, 0, 0]),\n",
    "        WheelSpinAxis_B=spin_axis,\n",
    "        WheelModelType=\"Balanced\",\n",
    "        Omega=omega * RPM,\n",
    "        OmegaMax=omega_max * RPM,\n",
    "        MaxTorque=u_max,\n",
    "        MinTorque=u_min,\n",
    "        MaxMomentum=max_momentum,\n",
    "        FrictionCoulomb=f_coulomb,\n",
    "        FrictionStatic=f_static,\n",
    "        BetaStatic=beta_static,\n",
    "        FrictionViscous=c_viscous,\n",
    "        StaticImbalance=u_s,\n",
    "        DynamicImbalance=u_d\n",
    "    )\n",
    "    \n"
   ],
   "metadata": {
    "collapsed": false,
    "ExecuteTime": {
     "end_time": "2024-09-02T07:54:20.881348Z",
     "start_time": "2024-09-02T07:54:20.526905Z"
    }
   },
   "id": "4ec3bb58e51efee3",
   "execution_count": 10
  },
  {
   "cell_type": "markdown",
   "source": [
    "## Add the Power Management System"
   ],
   "metadata": {
    "collapsed": false
   },
   "id": "d09fdc73c08a0594"
  },
  {
   "cell_type": "code",
   "outputs": [],
   "source": [
    "# configuration parameters for the power management system\n",
    "# battery parameters\n",
    "mass_battery = 0.1  # kg\n",
    "capacity_battery = 20.0  # Ah\n",
    "nominal_voltage_battery = 12.0  # V\n",
    "charge_fraction = 0.4\n",
    "look_up_table = [\n",
    "    # (voltage command, power draw)\n",
    "    (0.1, 0.1),\n",
    "    (3.0, 5.0),\n",
    "    (10.0, 20.0),\n",
    "    (20.0, 50.0)\n",
    "]\n",
    "\n",
    "# solar panel parameters\n",
    "mass_solar_panel = 2.5  # kg\n",
    "area = 0.35  # m^2\n",
    "nominal_voltage = 12.0  # V\n",
    "pitch_solar_panel = -90.0  # deg\n"
   ],
   "metadata": {
    "collapsed": false,
    "ExecuteTime": {
     "end_time": "2024-09-02T07:54:20.885366Z",
     "start_time": "2024-09-02T07:54:20.882401Z"
    }
   },
   "id": "b3538a23a5c1539b",
   "execution_count": 11
  },
  {
   "cell_type": "code",
   "outputs": [
    {
     "data": {
      "text/plain": "'True'"
     },
     "execution_count": 12,
     "metadata": {},
     "output_type": "execute_result"
    }
   ],
   "source": [
    "# Step 1: Add the power bus. The Power Bus is a component that can be attached to an object that controls the power system on-board the entity. It allows for power to flow from a battery unit, into a series of nodes. All components that are power related must attach to this component.\n",
    "bus = spacecraft.add_child(\"PowerBus\")\n",
    "\n",
    "# Step 2: Add the battery. Only one battery can be attached per power bus. If multiple batteries are desired, multiple power buses must be created.\n",
    "battery = spacecraft.add_child(\n",
    "    \"Battery\",\n",
    "    Mass=mass_battery,\n",
    "    Capacity=capacity_battery,\n",
    "    NominalVoltage=nominal_voltage_battery,\n",
    "    ChargeFraction=charge_fraction,\n",
    ")\n",
    "\n",
    "# Step 3: Add the solar panel/s. Solar panels must be connected to battery units. Batteries then connect to other power consumers.\n",
    "solar_panel = spacecraft.add_child(\n",
    "    \"SolarPanel\",\n",
    "    Mass=mass_solar_panel,  # kg\n",
    "    Area=area,  # m^2\n",
    "    NominalVoltage=nominal_voltage  # V\n",
    ")\n",
    "solar_panel.invoke(\"PitchDegrees\", pitch_solar_panel)\n",
    "\n",
    "# ... add additional solar panels as desired\n",
    "\n",
    "# Step 4: Add the power consumers. Power consumers are components that consume power from the battery.\n",
    "# Associate a power consumption model with the reaction wheels via a motor power lookup model\n",
    "rw_motor_power_model = reaction_wheels.get_model(\n",
    "    \"ReactionWheelArrayPowerModel\",\n",
    ")\n",
    "rw_motor_power_model.set(\n",
    "    In_MotorVoltageArrayMsg=simulation.add_message(\n",
    "        \"MotorVoltageArrayMessage\",\n",
    "    )\n",
    ")\n",
    "# create the lookup data for the motor power model\n",
    "rw_motor_power_model.invoke(\"AddLookupTableEntry\", look_up_table[0][0], look_up_table[0][1])\n",
    "rw_motor_power_model.invoke(\"AddLookupTableEntry\", look_up_table[1][0], look_up_table[1][1])\n",
    "rw_motor_power_model.invoke(\"AddLookupTableEntry\", look_up_table[2][0], look_up_table[2][1])\n",
    "rw_motor_power_model.invoke(\"AddLookupTableEntry\", look_up_table[3][0], look_up_table[3][1])\n",
    "\n",
    "# Step 5: Connect the components together as per the instructions in the previous steps\n",
    "bus.invoke(\"ConnectSourceBattery\", solar_panel, battery)\n",
    "bus.invoke(\"ConnectBatteryComponent\", battery, reaction_wheels)"
   ],
   "metadata": {
    "collapsed": false,
    "ExecuteTime": {
     "end_time": "2024-09-02T07:54:22.093869Z",
     "start_time": "2024-09-02T07:54:20.886371Z"
    }
   },
   "id": "285fa129ee3bcc6f",
   "execution_count": 12
  },
  {
   "cell_type": "markdown",
   "source": [
    "## Add the Telemetry, Tracking & Command (TT&C) System"
   ],
   "metadata": {
    "collapsed": false
   },
   "id": "bbf5187159024758"
  },
  {
   "cell_type": "code",
   "outputs": [],
   "source": [
    "from nominalpy.maths.data import gigabytes_to_bits\n",
    "\n",
    "# configuration parameters for the TT&C system\n",
    "# spacecraft receiver parameters\n",
    "frequency_receiver_sc = 14 * 1e6  # Hz\n",
    "bandwidth_receiver_sc = 5 * 1e6  # Hz\n",
    "mass_receiver_sc = 0.1  # kg, the mass of the receiver attached to the spacecraft\n",
    "\n",
    "# satellite on-board data storage parameters\n",
    "capacity = gigabytes_to_bits(128)  # bits\n",
    "mass_data_storage_sc = 0.1  # kg, the mass of the data storage system attached to the spacecraft\n",
    "\n",
    "# spacecraft transmitter parameters\n",
    "frequency_transmitter_sc = 12e6  # Hz\n",
    "bandwidth_transmitter_sc = 5.0 * 1e6  # Hz\n",
    "power_transmitter_sc = 45,  # dBm\n",
    "packet_size_sc = 1 * 1024  # bytes\n",
    "mass_transmitter_sc = 0.1  # kg, the mass of the transmitter attached to the spacecraft\n",
    "\n",
    "# ground station parameters\n",
    "use_ground_error = False\n",
    "drift_error_gs = 5000 # Hz\n",
    "# TODO: update the ground station altitudes to be realistic\n",
    "ground_station_locations = {\n",
    "    \"Mumbai\": (18.932219,-287.175135, 0.0),\n",
    "    \"Denver\": (39.739258,-104.984849, 0.0),\n",
    "    \"Guildford\": (51.234248, -0.572397, 0.0)\n",
    "}\n",
    "# add a container to store the ground stations so that we can access their data later in the analysis\n",
    "ground_stations = []\n",
    "minimum_elevation_gs = 40.0\n",
    "maximum_range_gs = 2000000\n",
    "frequency_transmitter_gs = frequency_receiver_sc  # Hz, match the transmitter frequency to the spacecraft receiver frequency\n",
    "bandwidth_transmitter_gs = 5.0 * 1e6  # Hz\n",
    "power_transmitter_gs = 45,  # dBm\n",
    "packet_size_gs = 1 * 1024  # bytes\n",
    "\n",
    "# add the receiver properties for the ground-station\n",
    "frequency_receiver_gs = frequency_transmitter_sc  # Hz, match the receiver frequency to the spacecraft transmitter frequency\n",
    "bandwidth_receiver_gs = 5 * 1e6  # Hz"
   ],
   "metadata": {
    "collapsed": false,
    "ExecuteTime": {
     "end_time": "2024-09-02T07:54:22.098845Z",
     "start_time": "2024-09-02T07:54:22.094874Z"
    }
   },
   "id": "1c74d680a4d66d4e",
   "execution_count": 13
  },
  {
   "cell_type": "code",
   "outputs": [],
   "source": [
    "# add the TT&C system to the spacecraft. The TT&C components feature a receiver / transmitter, and a data storage system. A DataStorageMessageWriter is used to convert data associated with the data storage to the receiver / transmitter. Received data will be stored via the ReceiverMessageWriterModel and remove from the data-storage and transmitter via the TransmitterMessageWriterModel.\n",
    "\n",
    "# add the receiver\n",
    "receiver = spacecraft.add_child(\n",
    "    \"Receiver\",\n",
    "    Mass=mass_receiver_sc,\n",
    "    Frequency=frequency_receiver_sc,\n",
    "    Bandwidth=bandwidth_receiver_sc,\n",
    ")\n",
    "# add the data storage system\n",
    "spacecraft_data_storage = spacecraft.add_child(\n",
    "    \"PartitionedDataStorage\",\n",
    "    Mass=mass_data_storage_sc,\n",
    "    Capacity=capacity,\n",
    ")\n",
    "# add in the data manager\n",
    "spacecraft_storage_manager = spacecraft_data_storage.add_behaviour(\n",
    "    \"DataStorageMessageWriter\",\n",
    ")\n",
    "# create the receiver storage model\n",
    "receiver_storage = receiver.get_model(\n",
    "    \"ReceiverMessageWriterModel\",\n",
    ")\n",
    "receiver_storage.set(\n",
    "    Storage=spacecraft_data_storage\n",
    ")\n",
    "\n",
    "# add a transmitter to the spacecraft\n",
    "transmitter = spacecraft.add_child(\n",
    "    \"Transmitter\",\n",
    "    Mass=mass_transmitter_sc,\n",
    "    Frequency=frequency_transmitter_sc,\n",
    "    Bandwidth=bandwidth_transmitter_sc,\n",
    "    PacketSize=packet_size_sc,\n",
    "    Power=power_transmitter_sc,\n",
    ")\n",
    "\n",
    "# create the transmitter storage model\n",
    "transmitter_storage = transmitter.get_model(\"TransmitterStorageModel\")\n",
    "transmitter_storage.set(MessageWriter=spacecraft_storage_manager)\n",
    "\n",
    "# connect the transmitter to the power bus\n",
    "bus.invoke(\"ConnectBatteryComponent\", battery, transmitter)"
   ],
   "metadata": {
    "collapsed": false,
    "ExecuteTime": {
     "end_time": "2024-09-02T07:54:22.814905Z",
     "start_time": "2024-09-02T07:54:22.099850Z"
    }
   },
   "id": "59dd6f29a406abc2",
   "execution_count": 14
  },
  {
   "cell_type": "code",
   "outputs": [],
   "source": [
    "# add the ground stations\n",
    "# spawn the ground station\n",
    "for gs_loc in ground_station_locations.values():\n",
    "    gs_components = {}\n",
    "    gs_components[\"ground_station\"] = simulation.add_object(\n",
    "        types.GROUND_STATION,\n",
    "        Latitude=gs_loc[0],\n",
    "        Longitude=gs_loc[1],\n",
    "        Altitude=gs_loc[2],\n",
    "        MinimumElevation=minimum_elevation_gs,\n",
    "        MaximumRange=maximum_range_gs\n",
    "    )\n",
    "\n",
    "    # add in the transmitter\n",
    "    gs_components[\"transmitter\"] = gs_components[\"ground_station\"].add_child(\n",
    "        \"Transmitter\",\n",
    "        Frequency=frequency_transmitter_gs,\n",
    "        Bandwidth=bandwidth_transmitter_gs,\n",
    "        PacketSize=packet_size_gs,\n",
    "        Power=power_transmitter_gs,\n",
    "    )\n",
    "\n",
    "    # add the data storage system to the ground station, this will track the data that is received from the spacecraft\n",
    "    gs_components[\"data_storage\"] = gs_components[\"ground_station\"].add_child(\n",
    "        \"PartitionedDataStorage\",\n",
    "        # Capacity=capacity,\n",
    "    )\n",
    "\n",
    "    # add in the data manager\n",
    "    gs_components[\"storage_manager\"] = gs_components[\"data_storage\"].add_behaviour(\n",
    "        \"DataStorageMessageWriter\",\n",
    "    )\n",
    "\n",
    "    # add a frequency drift\n",
    "    if use_ground_error:\n",
    "        gs_components[\"drift_error\"] = gs_components[\"transmitter\"].get_model(\"AntennaFrequencyDriftErrorModel\")\n",
    "        gs_components[\"drift_error\"].set(\n",
    "            IsEnabled=True,\n",
    "            DriftRate=drift_error_gs\n",
    "        )\n",
    "        \n",
    "    # add the receiver to the groundstation\n",
    "    gs_components[\"receiver\"] = gs_components[\"ground_station\"].add_child(\n",
    "        \"Receiver\",\n",
    "        Frequency=frequency_receiver_gs,\n",
    "        Bandwidth=bandwidth_receiver_gs,\n",
    "    )\n",
    "    \n",
    "    # create the receiver storage model\n",
    "    gs_components[\"receiver_storage\"] = gs_components[\"receiver\"].get_model(\n",
    "        \"ReceiverMessageWriterModel\",\n",
    "    )\n",
    "    gs_components[\"receiver_storage\"].set(\n",
    "        Storage=gs_components[\"data_storage\"]\n",
    "    )\n",
    "    \n",
    "    # The AccessMessage stores data associated with the access of the ground station to the spacecraft. We will get the access message from the ground station object so that we can retrieve the data later in the analysis.\n",
    "    gs_components[\"access_msg\"] = simulation.add_message_by_id(\n",
    "        id=gs_components[\"ground_station\"].invoke(\"TrackObject\", spacecraft.id)\n",
    "    )\n",
    "    \n",
    "    # Each component within the simulation is assigned a unique identifier. This identifier can be used to track the component's data. Therefore, we store the ground station identifiers in a list so that we can access the data later in the analysis.\n",
    "    ground_stations.append(gs_components)"
   ],
   "metadata": {
    "collapsed": false,
    "ExecuteTime": {
     "end_time": "2024-09-02T07:54:24.926388Z",
     "start_time": "2024-09-02T07:54:22.815861Z"
    }
   },
   "id": "d78fdba3e24b9894",
   "execution_count": 15
  },
  {
   "cell_type": "markdown",
   "source": [
    "### Add the Operations Computer\n",
    "The operations computer contains pre-programmed control software to enable the spacecraft to change between discrete operations modes. This includes point by containing an \"MRP Feedback\", PID-based attitude controller."
   ],
   "metadata": {
    "collapsed": false
   },
   "id": "ca29a4d028aed8ed"
  },
  {
   "cell_type": "code",
   "outputs": [],
   "source": [
    "# add the operation computer configuration parameters\n",
    "minimum_battery_fraction = 0.6\n",
    "battery_recharged_fraction = 0.8\n",
    "desired_pointing_mode = \"Ground\""
   ],
   "metadata": {
    "collapsed": false,
    "ExecuteTime": {
     "end_time": "2024-09-02T07:54:24.931134Z",
     "start_time": "2024-09-02T07:54:24.927404Z"
    }
   },
   "id": "35311bd6f47c5c63",
   "execution_count": 16
  },
  {
   "cell_type": "code",
   "outputs": [],
   "source": [
    "# add the navigator\n",
    "# add the navigator\n",
    "navigator = spacecraft.add_behaviour(\n",
    "    \"SimpleNavigationSoftware\",\n",
    "    UseEclipse=True\n",
    ")\n",
    "\n",
    "# add the operation computer\n",
    "computer = spacecraft.add_behaviour(\n",
    "    \"SpacecraftOperationComputer\",\n",
    "    MinimumBatteryFraction=minimum_battery_fraction,\n",
    "    BatteryRechargedFraction=battery_recharged_fraction,\n",
    "    DesiredPointingMode=desired_pointing_mode,\n",
    ")\n",
    "computer.invoke(\"SyncClock\", universe.get(\"Epoch\"))\n",
    "\n",
    "# configure the ground pointing to be the up vector\n",
    "# point the spacecraft at the first ground station by default\n",
    "msg_id = computer.invoke(\"GetGroundPointingMessage\")\n",
    "# instantiate the message\n",
    "msg = simulation.add_message_by_id(id=msg_id)\n",
    "msg.set(\n",
    "    Alignment_B=np.array([0, 0, 1]),\n",
    "    Latitude=ground_station_locations[\"Mumbai\"][0],\n",
    "    Longitude=ground_station_locations[\"Mumbai\"][1],\n",
    ")"
   ],
   "metadata": {
    "collapsed": false,
    "ExecuteTime": {
     "end_time": "2024-09-02T07:54:25.437421Z",
     "start_time": "2024-09-02T07:54:24.931134Z"
    }
   },
   "id": "62f4db099fe331dd",
   "execution_count": 17
  },
  {
   "cell_type": "code",
   "outputs": [],
   "source": [
    "# TODO: Tune the MRP controller within the operations comput"
   ],
   "metadata": {
    "collapsed": false,
    "ExecuteTime": {
     "end_time": "2024-09-02T07:54:25.445623Z",
     "start_time": "2024-09-02T07:54:25.442436Z"
    }
   },
   "id": "bd9f2a0c5284851a",
   "execution_count": 18
  },
  {
   "cell_type": "code",
   "outputs": [],
   "source": [
    "# create the camera\n",
    "camera = spacecraft.add_child(\"Camera\")\n",
    "camera.invoke(\"PitchDegrees\", 90.0)"
   ],
   "metadata": {
    "collapsed": false,
    "ExecuteTime": {
     "end_time": "2024-09-02T07:54:25.626432Z",
     "start_time": "2024-09-02T07:54:25.446638Z"
    }
   },
   "id": "1a0b1c8f833e84ca",
   "execution_count": 19
  },
  {
   "cell_type": "markdown",
   "source": [
    "## Upload the commands to the satellite\n"
   ],
   "metadata": {
    "collapsed": false
   },
   "id": "97de73a534e21191"
  },
  {
   "cell_type": "code",
   "outputs": [],
   "source": [
    "pointings = [\"Nadir\", \"Velocity\", \"Nadir\", \"Sun\", \"Nadir\"]\n",
    "times = [10, 7000, 20000, 40000, 60000]\n",
    "# pointings = [\"Nadir\"]\n",
    "# times = [10]\n",
    "\n",
    "for i, pointing in enumerate(pointings):\n",
    "    # create the command\n",
    "    cmd = create_guidance_command(\n",
    "        pointing=pointing,\n",
    "        time=times[i],\n",
    "    )\n",
    "    \n",
    "    computer.invoke(\"AddCommand\", cmd, times[i])\n",
    "\n",
    "# for i in range(len(pointings)):\n",
    "#     # create the command\n",
    "#     cmd = create_guidance_command(\n",
    "#         pointing=pointings[i],\n",
    "#         time=times[i],\n",
    "#     )\n",
    "#     ground_stations[0][\"transmitter\"].invoke(\"TransmitJSON\", cmd, \"commands\")"
   ],
   "metadata": {
    "collapsed": false,
    "ExecuteTime": {
     "end_time": "2024-09-02T07:54:26.045541Z",
     "start_time": "2024-09-02T07:54:25.627378Z"
    }
   },
   "id": "bd98891c580c1c5a",
   "execution_count": 20
  },
  {
   "cell_type": "markdown",
   "source": [
    "## Subscribe to Message Data\n",
    "Data for specific messages can be tracked as a predefined frequency. This enables a timeseries of data to be fetched for the simulation."
   ],
   "metadata": {
    "collapsed": false
   },
   "id": "41b4df16a34e752"
  },
  {
   "cell_type": "code",
   "outputs": [],
   "source": [
    "# subscribe to the data\n",
    "# set the interval (in seconds) at which data is polled.\n",
    "simulation.set_tracking_interval(interval=60)\n",
    "# track the data of interest\n",
    "simulation.track_object(spacecraft_data_storage.get_message(\"Out_DataStorageMsg\"))\n",
    "simulation.track_object(computer.get_message(\"Out_AttitudeErrorMsg\"))\n",
    "simulation.track_object(computer.get_message(\"Out_GuidanceChainMsg\"))\n",
    "simulation.track_object(rw_motor_power_model.get_message(\"Out_MotorVoltageArrayMsg\"))\n",
    "simulation.track_object(reaction_wheels.get_message(\"Out_RWArraySpeedMsg\"))\n",
    "simulation.track_object(battery.get_message(\"Out_BatteryMsg\"))\n",
    "simulation.track_object(spacecraft.get_message(\"Out_BodyMassMsg\"))\n",
    "\n",
    "# track the ground station access messages\n",
    "for gs in ground_stations:\n",
    "    simulation.track_object(gs[\"access_msg\"])"
   ],
   "metadata": {
    "collapsed": false,
    "ExecuteTime": {
     "end_time": "2024-09-02T07:54:28.216449Z",
     "start_time": "2024-09-02T07:54:26.046546Z"
    }
   },
   "id": "24fb6c6b91408eb3",
   "execution_count": 21
  },
  {
   "cell_type": "markdown",
   "source": [
    "## Run the Simulation"
   ],
   "metadata": {
    "collapsed": false
   },
   "id": "13849d746b376a01"
  },
  {
   "cell_type": "code",
   "outputs": [
    {
     "name": "stdout",
     "output_type": "stream",
     "text": [
      "CPU times: total: 266 ms\n",
      "Wall time: 27.8 s\n"
     ]
    }
   ],
   "source": [
    "%%time\n",
    "duration = 8640  # sec\n",
    "# some components such as reaction wheels require small time steps, therefore, the required timestep is smaller than what might be commonly experienced in 3DoF orbit propogation\n",
    "time_step = 0.1  # sec\n",
    "simulation.tick_duration(step=time_step, time=duration)"
   ],
   "metadata": {
    "collapsed": false,
    "ExecuteTime": {
     "end_time": "2024-09-02T07:54:55.978414Z",
     "start_time": "2024-09-02T07:54:28.217454Z"
    }
   },
   "id": "372836db704ee551",
   "execution_count": 22
  },
  {
   "cell_type": "markdown",
   "source": [
    "## Analyze the Simulation"
   ],
   "metadata": {
    "collapsed": false
   },
   "id": "78658c9389735ebf"
  },
  {
   "cell_type": "markdown",
   "source": [
    "### Visualise the mass of the spacecraft"
   ],
   "metadata": {
    "collapsed": false
   },
   "id": "7a3167925a0a8f18"
  },
  {
   "cell_type": "code",
   "outputs": [],
   "source": [
    "# get the mass of the spacecraft\n",
    "df_mass = simulation.query_dataframe(spacecraft.get_message(\"Out_BodyMassMsg\"))\n",
    "assert True"
   ],
   "metadata": {
    "collapsed": false,
    "ExecuteTime": {
     "end_time": "2024-09-02T07:54:56.228415Z",
     "start_time": "2024-09-02T07:54:55.979418Z"
    }
   },
   "id": "a4197c32ba82f91f",
   "execution_count": 23
  },
  {
   "cell_type": "markdown",
   "source": [
    "### Visualise the Operations Modes"
   ],
   "metadata": {
    "collapsed": false
   },
   "id": "17cf896b8e003ae4"
  },
  {
   "cell_type": "code",
   "outputs": [
    {
     "data": {
      "text/plain": "<Figure size 640x480 with 1 Axes>",
      "image/png": "[encoded data removed]"
     },
     "metadata": {},
     "output_type": "display_data"
    }
   ],
   "source": [
    "# plot the attitude error with background shading for the operations mode\n",
    "import matplotlib.pyplot as plt\n",
    "\n",
    "df_att_error = simulation.query_dataframe(computer.get_message(\"Out_AttitudeErrorMsg\"))\n",
    "df_ops_modes = simulation.query_dataframe(computer.get_message(\"Out_GuidanceChainMsg\"))\n",
    "\n",
    "# get the rows where the mode changes\n",
    "df_ops_modes_diff = df_ops_modes[df_ops_modes[\"PointingMode\"] != df_ops_modes[\"PointingMode\"].shift(1)]\n",
    "\n",
    "\n",
    "fig, ax = plt.subplots()\n",
    "ax.plot(df_att_error.loc[:, \"Time\"], df_att_error.loc[:, \"Sigma_BR_0\"], label=\"Attitude Error\")\n",
    "ax.set_xlabel(\"Time (s)\")\n",
    "ax.set_ylabel(\"Attitude Error\")\n",
    "ax.set_title(\"Attitude Error with Operations Mode\")\n",
    "ax.legend()\n",
    "\n",
    "# add the background shading for the operations mode, change the color to differentiate between modes, and also annotate the mode\n",
    "\n",
    "# add the background shading for the operations mode\n",
    "for i in range(1, len(df_ops_modes_diff)):\n",
    "    # ax.axvspan(df_ops_modes_diff.loc[:, \"Time\"].iloc[i-1], df_ops_modes_diff.loc[:, \"Time\"].iloc[i], color='gray', alpha=0.5)\n",
    "    ax.axvspan(df_ops_modes_diff.loc[:, \"Time\"].iloc[i-1], df_ops_modes_diff.loc[:, \"Time\"].iloc[i], color=f\"C{i}\", alpha=0.5)\n",
    "    # annotate the mode, placing the text at the left edge of the shaded region\n",
    "    ax.text(df_ops_modes_diff.loc[:, \"Time\"].iloc[i-1], 0.0, df_ops_modes_diff.loc[:, \"PointingMode\"].iloc[i-1], rotation=90)\n",
    "\n",
    "plt.show()"
   ],
   "metadata": {
    "collapsed": false,
    "ExecuteTime": {
     "end_time": "2024-09-02T07:54:56.569950Z",
     "start_time": "2024-09-02T07:54:56.229430Z"
    }
   },
   "id": "cf316b4489d7e86",
   "execution_count": 24
  },
  {
   "cell_type": "code",
   "outputs": [],
   "source": [
    "# plot the reaction wheel speeds\n",
    "df_rw_speed = simulation.query_dataframe(reaction_wheels.get_message(\"Out_RWArraySpeedMsg\"))\n",
    "assert True"
   ],
   "metadata": {
    "collapsed": false,
    "ExecuteTime": {
     "end_time": "2024-09-02T07:54:56.669850Z",
     "start_time": "2024-09-02T07:54:56.570955Z"
    }
   },
   "id": "a7c8a0e421392a8",
   "execution_count": 25
  },
  {
   "cell_type": "markdown",
   "source": [
    "### Visualise the Ground Station Interaction"
   ],
   "metadata": {
    "collapsed": false
   },
   "id": "e463d7155a237aa0"
  },
  {
   "cell_type": "code",
   "outputs": [
    {
     "data": {
      "text/plain": "<matplotlib.legend.Legend at 0x26ec1ea7890>"
     },
     "execution_count": 26,
     "metadata": {},
     "output_type": "execute_result"
    },
    {
     "data": {
      "text/plain": "<Figure size 640x480 with 1 Axes>",
      "image/png": "[encoded data removed]"
     },
     "metadata": {},
     "output_type": "display_data"
    }
   ],
   "source": [
    "# plot the access of each ground station to the spacecraft\n",
    "\n",
    "df_gs_access = []\n",
    "for gs in ground_stations:\n",
    "    df_gs_access.append(simulation.query_dataframe(gs[\"access_msg\"]))\n",
    "    \n",
    "fig, ax = plt.subplots()\n",
    "for i, df in enumerate(df_gs_access):\n",
    "    ax.plot(df.loc[:, \"Time\"], df.loc[:, \"IsAccessible\"], label=f\"Ground Station {list(ground_station_locations.keys())[i]}\")\n",
    "ax.set_xlabel(\"Time (s)\")\n",
    "ax.set_ylabel(\"Is Accessible\")\n",
    "ax.set_title(\"Ground Station Access\")\n",
    "ax.legend()\n"
   ],
   "metadata": {
    "collapsed": false,
    "ExecuteTime": {
     "end_time": "2024-09-02T07:54:57.083654Z",
     "start_time": "2024-09-02T07:54:56.670778Z"
    }
   },
   "id": "32d16f13a4b47937",
   "execution_count": 26
  },
  {
   "cell_type": "code",
   "outputs": [],
   "source": [
    "# Visualise the number of packets loaded in the ground-station buffer yet to be transmitted\n",
    "# create a pie chart to show the number of packets in the buffer\n",
    "\n",
    "# get the data for the ground station\n",
    "df_gs_access = []\n",
    "for gs in ground_stations:\n",
    "    df_gs_access.append(gs[\"transmitter\"])\n",
    "assert True"
   ],
   "metadata": {
    "collapsed": false,
    "ExecuteTime": {
     "end_time": "2024-09-02T07:54:57.087305Z",
     "start_time": "2024-09-02T07:54:57.084658Z"
    }
   },
   "id": "282579380e921311",
   "execution_count": 27
  },
  {
   "cell_type": "markdown",
   "source": [
    "### Visualise the Power Consumption"
   ],
   "metadata": {
    "collapsed": false
   },
   "id": "c8fca193a7ce796b"
  },
  {
   "cell_type": "code",
   "outputs": [
    {
     "data": {
      "text/plain": "<Figure size 640x480 with 1 Axes>",
      "image/png": "[encoded data removed]"
     },
     "metadata": {},
     "output_type": "display_data"
    }
   ],
   "source": [
    "# plot the charge fraction of the battery\n",
    "df_battery = simulation.query_dataframe(battery.get_message(\"Out_BatteryMsg\"))\n",
    "\n",
    "fig, ax = plt.subplots()\n",
    "ax.plot(df_battery.loc[:, \"Time\"], df_battery.loc[:, \"ChargeFraction\"], label=\"Battery Charge Fraction\")\n",
    "ax.set_xlabel(\"Time (s)\")\n",
    "ax.set_ylabel(\"Charge Fraction\")\n",
    "ax.set_title(\"Battery Charge Fraction\")\n",
    "ax.legend()\n",
    "plt.show()"
   ],
   "metadata": {
    "collapsed": false,
    "ExecuteTime": {
     "end_time": "2024-09-02T07:54:57.266057Z",
     "start_time": "2024-09-02T07:54:57.088308Z"
    }
   },
   "id": "8dab1ed6983c8561",
   "execution_count": 28
  },
  {
   "cell_type": "markdown",
   "source": [
    "### Visualise the Onboared Data Storage"
   ],
   "metadata": {
    "collapsed": false
   },
   "id": "357d53b641aa36cf"
  },
  {
   "cell_type": "code",
   "outputs": [],
   "source": [],
   "metadata": {
    "collapsed": false,
    "ExecuteTime": {
     "end_time": "2024-09-02T07:54:57.268699Z",
     "start_time": "2024-09-02T07:54:57.267061Z"
    }
   },
   "id": "68492c99c0ae3e0f",
   "execution_count": 28
  },
  {
   "cell_type": "code",
   "outputs": [
    {
     "data": {
      "text/plain": "<Figure size 640x480 with 1 Axes>",
      "image/png": "[encoded data removed]"
     },
     "metadata": {},
     "output_type": "display_data"
    }
   ],
   "source": [
    "# plot the data storage usage\n",
    "df_data_storage = simulation.query_dataframe(spacecraft_data_storage.get_message(\"Out_DataStorageMsg\"))\n",
    "# calculate the used fraction of the data storage based on the allocated memory and capacity\n",
    "df_data_storage[\"UsedFraction\"] = df_data_storage[\"Allocated\"] / df_data_storage[\"Capacity\"]\n",
    "\n",
    "\n",
    "fig, ax = plt.subplots()\n",
    "ax.plot(df_data_storage.loc[:, \"Time\"], df_data_storage.loc[:, \"UsedFraction\"], label=\"Used Data Storage Fraction\")\n",
    "# set the min value for the y-axis\n",
    "ax.set_ylim(bottom=-0.05)\n",
    "# set the max value for the y-axis\n",
    "ax.set_ylim(top=1.05)\n",
    "ax.set_xlabel(\"Time (s)\")\n",
    "ax.set_ylabel(\"Data Store Fraction\")\n",
    "ax.set_title(\"Data Storage Usage\")\n",
    "\n",
    "ax.legend()\n",
    "plt.show()"
   ],
   "metadata": {
    "collapsed": false,
    "ExecuteTime": {
     "end_time": "2024-09-02T07:54:57.430070Z",
     "start_time": "2024-09-02T07:54:57.269704Z"
    }
   },
   "id": "964c2b94030e4ba",
   "execution_count": 29
  },
  {
   "cell_type": "code",
   "outputs": [],
   "source": [],
   "metadata": {
    "collapsed": false,
    "ExecuteTime": {
     "end_time": "2024-09-02T07:54:57.433246Z",
     "start_time": "2024-09-02T07:54:57.431074Z"
    }
   },
   "id": "7f1625763d9d37d6",
   "execution_count": 29
  }
 ],
 "metadata": {
  "kernelspec": {
   "display_name": "Python 3",
   "language": "python",
   "name": "python3"
  },
  "language_info": {
   "codemirror_mode": {
    "name": "ipython",
    "version": 2
   },
   "file_extension": ".py",
   "mimetype": "text/x-python",
   "name": "python",
   "nbconvert_exporter": "python",
   "pygments_lexer": "ipython2",
   "version": "2.7.6"
  }
 },
 "nbformat": 4,
 "nbformat_minor": 5
}
