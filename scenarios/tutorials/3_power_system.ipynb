{
 "cells": [
  {
   "cell_type": "markdown",
   "source": [
    "## Power System\n",
    "In this demo, you will learn how to add power components to the system developed in the previous demo. This demo involves the following steps:\n",
    "1. Extend the system developed in the previous demo to include power components including a battery, solar panel and power bus.\n",
    "2. Plotting the battery capacity."
   ],
   "metadata": {
    "collapsed": false
   },
   "id": "80f8d5d4594a2337"
  },
  {
   "cell_type": "code",
   "outputs": [],
   "source": [
    "# nominalpy imports\n",
    "from nominalpy import Credentials, Simulation, System, Object, types\n",
    "from nominalpy.maths import astro\n",
    "# other imports\n",
    "from datetime import datetime\n",
    "import numpy as np\n",
    "import matplotlib.pyplot as plt\n",
    "\n",
    "from scenarios.credential_helper import fetch_credentials"
   ],
   "metadata": {
    "collapsed": false,
    "ExecuteTime": {
     "end_time": "2024-09-04T08:12:57.010062Z",
     "start_time": "2024-09-04T08:12:56.229591Z"
    }
   },
   "id": "adeb53b38365298a",
   "execution_count": 1
  },
  {
   "cell_type": "markdown",
   "source": [
    "### Authenticate your nominalpy access\n"
   ],
   "metadata": {
    "collapsed": false
   },
   "id": "95c4784a2de2b48d"
  },
  {
   "cell_type": "code",
   "outputs": [],
   "source": [
    "# Construct the credentials\n",
    "credentials = fetch_credentials()\n",
    "\n",
    "simulation: Simulation = Simulation.get(credentials)"
   ],
   "metadata": {
    "collapsed": false,
    "ExecuteTime": {
     "end_time": "2024-09-04T08:12:57.554391Z",
     "start_time": "2024-09-04T08:12:57.011068Z"
    }
   },
   "id": "a1cc2e9fbc4e3db8",
   "execution_count": 2
  },
  {
   "cell_type": "markdown",
   "source": [
    "### Setup the spacecraft and components\n",
    "The following cells configure the spacecraft and its components. For more details, please refer to the Guidance Modes demo."
   ],
   "metadata": {
    "collapsed": false
   },
   "id": "b436de11cc68d026"
  },
  {
   "cell_type": "code",
   "outputs": [],
   "source": [
    "# universe configuration parameters\n",
    "epoch = datetime(2023, 1, 1)\n",
    "\n",
    "# get the universe associated with our simulation, setting it with a desired epoch\n",
    "universe: System = simulation.get_system(\n",
    "    types.SOLAR_SYSTEM,\n",
    "    Epoch=epoch\n",
    ")"
   ],
   "metadata": {
    "collapsed": false,
    "ExecuteTime": {
     "end_time": "2024-09-04T08:12:57.763232Z",
     "start_time": "2024-09-04T08:12:57.556397Z"
    }
   },
   "id": "2f04918fd0ffd2d4",
   "execution_count": 3
  },
  {
   "cell_type": "markdown",
   "source": [],
   "metadata": {
    "collapsed": false
   },
   "id": "616fdbefd886ccad"
  },
  {
   "cell_type": "code",
   "outputs": [],
   "source": [
    "# satellite configuration parameters\n",
    "mass = 750  # kg\n",
    "center_of_mass = np.array([0.0, 0.0, 0.0])  # m\n",
    "moment_of_inertia = np.diag([900, 800, 600])  # kg m^2\n",
    "\n",
    "semi_major_axis = 7000e3  # m\n",
    "eccentricity = 0.001\n",
    "inclination = 97.5  # deg\n",
    "raan = 5  # deg\n",
    "arg_perigee = 10  # deg\n",
    "true_anomaly = 20  # deg\n",
    "\n",
    "# initial attitude and rate, defined in modified rodriquez parameters\n",
    "attitude = np.array([0.1, 0.2, -0.3])\n",
    "attitude_rate = np.array([0.001, -0.01, 0.03])"
   ],
   "metadata": {
    "collapsed": false,
    "ExecuteTime": {
     "end_time": "2024-09-04T08:12:57.768062Z",
     "start_time": "2024-09-04T08:12:57.764238Z"
    }
   },
   "id": "60249a84b88e7cfe",
   "execution_count": 4
  },
  {
   "cell_type": "code",
   "outputs": [],
   "source": [
    "# convert the classical orbital elements to state vectors, using nominalpy's utility functions, to help initialise the orbit\n",
    "orbit: tuple = astro.classical_to_vector_elements_deg(\n",
    "    semi_major_axis=semi_major_axis,\n",
    "    eccentricity=eccentricity,\n",
    "    inclination=inclination,\n",
    "    right_ascension=raan,\n",
    "    argument_of_periapsis=arg_perigee,\n",
    "    true_anomaly=true_anomaly,\n",
    ")\n",
    "\n",
    "# add the satellite object to the simulation\n",
    "# nominalpy can either hard-set the mass, center of mass, and moment of inertia properties of the spacecraft; or calculate them based on attached components. In this simple case, we will hard-set the by setting the OverrideMass property to True.\n",
    "spacecraft: Object = simulation.add_object(\n",
    "    types.SPACECRAFT,\n",
    "    TotalMass=mass,\n",
    "    TotalCenterOfMassB_B=center_of_mass,  # com of mass of the spacecraft in the body frame\n",
    "    TotalMomentOfInertiaB_B=moment_of_inertia,  # moment of inertia of the spacecraft in the body frame\n",
    "    OverrideMass=True,\n",
    "    Position=orbit[0],\n",
    "    Velocity=orbit[1],\n",
    "    Attitude=attitude,\n",
    "    AttitudeRate=attitude_rate,\n",
    ")"
   ],
   "metadata": {
    "collapsed": false,
    "ExecuteTime": {
     "end_time": "2024-09-04T08:12:57.877359Z",
     "start_time": "2024-09-04T08:12:57.770069Z"
    }
   },
   "id": "ce6e12e7536b1ae",
   "execution_count": 5
  },
  {
   "cell_type": "code",
   "outputs": [],
   "source": [
    "# Adds a reaction wheel array as a child component of the spacecraft. The reaction wheel array makes tracking data for individual reaction wheels much easier.\n",
    "reaction_wheels: Object = spacecraft.add_child(\"ReactionWheelArray\")\n",
    "\n",
    "# Adds individual reaction wheels to the reaction wheel array using the same add_child method. The reaction wheels are initialised within default properties such as max wheel speed, max torque, etc... These properties can be overridden by setting the desired properties in the add_child method. In this case, we set the wheel spin axes to be aligned with the body frame axes.\n",
    "rw1: Object = reaction_wheels.add_child(\n",
    "    \"ReactionWheel\",\n",
    "    WheelSpinAxis_B=np.array([1, 0, 0])\n",
    ")\n",
    "rw2: Object = reaction_wheels.add_child(\n",
    "    \"ReactionWheel\",\n",
    "    WheelSpinAxis_B=np.array([0, 1, 0])\n",
    ")\n",
    "rw3: Object = reaction_wheels.add_child(\n",
    "    \"ReactionWheel\",\n",
    "    WheelSpinAxis_B=np.array([0, 0, 1])\n",
    ")\n",
    "\n",
    "# Adds a guidance computer which will automatically link to the reaction wheels. The guidance computer contains attitude control algorithms and can be used to conveniently set to different pointing modes.\n",
    "computer: Object = spacecraft.add_child(\"GuidanceComputer\")\n",
    "\n",
    "# Assign the message to the computer\n",
    "computer.set(\n",
    "    PointingMode=\"Nadir\",\n",
    "    ControllerMode=\"MRP\",\n",
    "    MappingMode=\"ReactionWheels\",\n",
    ")"
   ],
   "metadata": {
    "collapsed": false,
    "ExecuteTime": {
     "end_time": "2024-09-04T08:12:58.507851Z",
     "start_time": "2024-09-04T08:12:57.878318Z"
    }
   },
   "id": "f153fb4f5f52b2b3",
   "execution_count": 6
  },
  {
   "cell_type": "markdown",
   "source": [
    "## 1. Add power components\n",
    "The following cells add power components to the spacecraft. The power components include a solar panel, battery, and power bus. The solar panel is connected to the power bus, which is in turn connected to the battery. There can only be one battery per power bus, but multiple power sources (e.g. solar panels) and sinks (e.g. reaction wheels) can be connected to the battery. If multiple battery are required, multiple power buses can be added to the spacecraft."
   ],
   "metadata": {
    "collapsed": false
   },
   "id": "7b8cd93b59a679c3"
  },
  {
   "cell_type": "code",
   "outputs": [],
   "source": [
    "# Adds a solar panel\n",
    "solar_panel = spacecraft.add_child(\n",
    "    \"SolarPanel\",\n",
    "    Area=0.01,\n",
    "    Efficiency=0.23\n",
    ")\n",
    "\n",
    "# Add in a battery. The battery will be set to default battery capacity and other parameters will be set to default values unless overwritten. We will overwrite the ChargeFraction.\n",
    "battery = spacecraft.add_child(\n",
    "    \"Battery\",\n",
    "    ChargeFraction=0.2\n",
    ")\n",
    "\n",
    "# Add in a power bus and connect up the solar panel and battery\n",
    "bus = spacecraft.add_child(\n",
    "    \"PowerBus\",\n",
    ")"
   ],
   "metadata": {
    "collapsed": false,
    "ExecuteTime": {
     "end_time": "2024-09-04T08:12:58.773276Z",
     "start_time": "2024-09-04T08:12:58.508855Z"
    }
   },
   "id": "e179c769797fd894",
   "execution_count": 7
  },
  {
   "cell_type": "markdown",
   "source": [
    "### Invoking Component Methods\n",
    "Components feature methods that can be invoked to realise more functionality. In this case, we will invoke the `Connect` method of the power bus to connect the solar panel and battery to the power bus."
   ],
   "metadata": {
    "collapsed": false
   },
   "id": "fa57a3297a1d1306"
  },
  {
   "cell_type": "code",
   "outputs": [
    {
     "data": {
      "text/plain": "'True'"
     },
     "execution_count": 8,
     "metadata": {},
     "output_type": "execute_result"
    }
   ],
   "source": [
    "bus.invoke(\"Connect\", solar_panel.id, battery.id)"
   ],
   "metadata": {
    "collapsed": false,
    "ExecuteTime": {
     "end_time": "2024-09-04T08:12:58.874955Z",
     "start_time": "2024-09-04T08:12:58.774290Z"
    }
   },
   "id": "2a4e3bcfff0d8ca6",
   "execution_count": 8
  },
  {
   "cell_type": "code",
   "outputs": [],
   "source": [
    "# subscribe to the data\n",
    "# set the interval (in seconds) at which data is polled.\n",
    "simulation.set_tracking_interval(interval=30)\n",
    "\n",
    "# each object, system, and simulation contain data messages that can be subscribed to. Messages associated with each object can be found in the nominalpy documentation.\n",
    "simulation.track_object(computer.get_message(\"Out_AttitudeErrorMsg\"))\n",
    "simulation.track_object(spacecraft.get_message(\"Out_SpacecraftStateMsg\"))\n",
    "simulation.track_object(computer.get_message(\"Out_GuidanceChainMsg\"))\n",
    "\n",
    "# subscribe to the power system messages\n",
    "simulation.track_object(battery.get_message(\"Out_BatteryMsg\"))\n",
    "simulation.track_object(solar_panel.get_message(\"Out_PowerSourceMsg\"))"
   ],
   "metadata": {
    "collapsed": false,
    "ExecuteTime": {
     "end_time": "2024-09-04T08:13:04.021581Z",
     "start_time": "2024-09-04T08:12:58.875959Z"
    }
   },
   "id": "1e5055423c787e64",
   "execution_count": 9
  },
  {
   "cell_type": "markdown",
   "source": [
    "### Running the Simulation"
   ],
   "metadata": {
    "collapsed": false
   },
   "id": "5ba9a9a5f72fbd03"
  },
  {
   "cell_type": "code",
   "outputs": [],
   "source": [
    "duration = 864  # sec\n",
    "time_step = 0.1  # sec\n",
    "simulation.tick_duration(step=time_step, time=duration)\n",
    "# change the pointing mode and run the simulation again\n",
    "computer.set(PointingMode=\"Sun\")\n",
    "simulation.tick_duration(step=time_step, time=duration)\n",
    "# change the pointing mode and run the simulation again\n",
    "computer.set(PointingMode=\"Velocity\")\n",
    "simulation.tick_duration(step=time_step, time=duration)\n",
    "# change the pointing mode and run the simulation again\n",
    "computer.set(PointingMode=\"Inertial\")\n",
    "simulation.tick_duration(step=time_step, time=duration)"
   ],
   "metadata": {
    "collapsed": false,
    "ExecuteTime": {
     "end_time": "2024-09-04T08:13:09.796776Z",
     "start_time": "2024-09-04T08:13:04.023853Z"
    }
   },
   "id": "b4a6f14d37e4732b",
   "execution_count": 10
  },
  {
   "cell_type": "markdown",
   "source": [
    "## 2. Plotting the Electric Power System"
   ],
   "metadata": {
    "collapsed": false
   },
   "id": "3d26f49b7c7e1d53"
  },
  {
   "cell_type": "markdown",
   "source": [
    "### Plotting the battery capacity\n",
    "When we plot the battery capacity we expect to see changes in the rate of charge based on the changing exposure of the solar panels to the Sun due to changes in the spacecraft's pointing mode and its orbit. Each colored section of the plot represents a different pointing mode, with the pointing mode annotated on the plot."
   ],
   "metadata": {
    "collapsed": false
   },
   "id": "f826c6b2bdbf4777"
  },
  {
   "cell_type": "code",
   "outputs": [
    {
     "data": {
      "text/plain": "<Figure size 640x480 with 1 Axes>",
      "image/png": "[encoded data removed]"
     },
     "metadata": {},
     "output_type": "display_data"
    }
   ],
   "source": [
    "# get the battery data\n",
    "df_battery = simulation.query_dataframe(battery.get_message(\"Out_BatteryMsg\"))\n",
    "\n",
    "# plot the battery capacity\n",
    "fig, ax = plt.subplots()\n",
    "ax.plot(df_battery.loc[:, \"Time\"], df_battery.loc[:, \"ChargeFraction\"])\n",
    "ax.set_xlabel(\"Time (s)\")\n",
    "ax.set_ylabel(\"Battery Charge Fraction\")\n",
    "\n",
    "\n",
    "# add the background shading for the operations mode\n",
    "df_ops_modes = simulation.query_dataframe(computer.get_message(\"Out_GuidanceChainMsg\"))\n",
    "# get the rows where the mode changes\n",
    "df_ops_modes_diff = df_ops_modes[df_ops_modes[\"PointingMode\"] != df_ops_modes[\"PointingMode\"].shift(1)]\n",
    "for i in range(0, len(df_ops_modes_diff)):\n",
    "    if i == len(df_ops_modes_diff) - 1:\n",
    "        x = df_ops_modes_diff.loc[:, \"Time\"].iloc[i]\n",
    "        y = df_ops_modes.loc[:, \"Time\"].iloc[-1]\n",
    "    else:\n",
    "        x = df_ops_modes_diff.loc[:, \"Time\"].iloc[i]\n",
    "        y = df_ops_modes_diff.loc[:, \"Time\"].iloc[i+1]\n",
    "        \n",
    "    ax.axvspan(x, y, color=f\"C{i}\", alpha=0.15)\n",
    "    # annotate the mode, placing the text at the left edge of the shaded region\n",
    "    min_x = np.min(df_battery.loc[:, \"ChargeFraction\"])\n",
    "    ax.text(df_ops_modes_diff.loc[:, \"Time\"].iloc[i], min_x, df_ops_modes_diff.loc[:, \"PointingMode\"].iloc[i], rotation=90)\n",
    "\n",
    "plt.show()"
   ],
   "metadata": {
    "collapsed": false,
    "ExecuteTime": {
     "end_time": "2024-09-04T08:13:10.089895Z",
     "start_time": "2024-09-04T08:13:09.798786Z"
    }
   },
   "id": "99d901523da209e0",
   "execution_count": 11
  },
  {
   "cell_type": "markdown",
   "source": [
    "### Plotting the solar panel power generation\n",
    "When we plot the solar panel power generation we expect to see changes in the power generation based on the changing exposure of the solar panels to the Sun due to changes in the spacecraft's pointing mode and its orbit. We can see oscillations in the spacecraft's orbit due to attitude overshoots and corrections. Each colored section of the plot represents a different pointing mode, with the pointing mode annotated on the plot."
   ],
   "metadata": {
    "collapsed": false
   },
   "id": "3ba9d4be95e5e492"
  },
  {
   "cell_type": "code",
   "outputs": [
    {
     "data": {
      "text/plain": "<Figure size 640x480 with 1 Axes>",
      "image/png": "[encoded data removed]"
     },
     "metadata": {},
     "output_type": "display_data"
    }
   ],
   "source": [
    "# get the solar panel data\n",
    "df_solar_panel = simulation.query_dataframe(solar_panel.get_message(\"Out_PowerSourceMsg\"))\n",
    "\n",
    "# plot the solar panel power generation\n",
    "fig, ax = plt.subplots()\n",
    "ax.plot(df_solar_panel.loc[:, \"Time\"], df_solar_panel.loc[:, \"Power\"])\n",
    "ax.set_xlabel(\"Time (s)\")\n",
    "ax.set_ylabel(\"Solar Panel Power Generation (W)\")\n",
    "\n",
    "# add the background shading for the operations mode\n",
    "df_ops_modes = simulation.query_dataframe(computer.get_message(\"Out_GuidanceChainMsg\"))\n",
    "# get the rows where the mode changes\n",
    "df_ops_modes_diff = df_ops_modes[df_ops_modes[\"PointingMode\"] != df_ops_modes[\"PointingMode\"].shift(1)]\n",
    "for i in range(0, len(df_ops_modes_diff)):\n",
    "    if i == len(df_ops_modes_diff) - 1:\n",
    "        x = df_ops_modes_diff.loc[:, \"Time\"].iloc[i]\n",
    "        y = df_ops_modes.loc[:, \"Time\"].iloc[-1]\n",
    "    else:\n",
    "        x = df_ops_modes_diff.loc[:, \"Time\"].iloc[i]\n",
    "        y = df_ops_modes_diff.loc[:, \"Time\"].iloc[i+1]\n",
    "        \n",
    "    ax.axvspan(x, y, color=f\"C{i}\", alpha=0.15)\n",
    "    # annotate the mode, placing the text at the left edge of the shaded region\n",
    "    min_x = np.min(df_solar_panel.loc[:, \"Power\"])\n",
    "    ax.text(df_ops_modes_diff.loc[:, \"Time\"].iloc[i], min_x, df_ops_modes_diff.loc[:, \"PointingMode\"].iloc[i], rotation=90)"
   ],
   "metadata": {
    "collapsed": false,
    "ExecuteTime": {
     "end_time": "2024-09-04T08:13:10.370330Z",
     "start_time": "2024-09-04T08:13:10.090899Z"
    }
   },
   "id": "29f5f0a7816c7641",
   "execution_count": 12
  }
 ],
 "metadata": {
  "kernelspec": {
   "display_name": "Python 3",
   "language": "python",
   "name": "python3"
  },
  "language_info": {
   "codemirror_mode": {
    "name": "ipython",
    "version": 2
   },
   "file_extension": ".py",
   "mimetype": "text/x-python",
   "name": "python",
   "nbconvert_exporter": "python",
   "pygments_lexer": "ipython2",
   "version": "2.7.6"
  }
 },
 "nbformat": 4,
 "nbformat_minor": 5
}
