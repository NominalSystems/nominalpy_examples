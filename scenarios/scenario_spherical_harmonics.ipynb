{
 "cells": [
  {
   "cell_type": "markdown",
   "id": "802bb3560323154b",
   "metadata": {
    "collapsed": false
   },
   "source": [
    "# Spherical Harmonic Gravity Model and Mean Orbital Elements"
   ]
  },
  {
   "cell_type": "markdown",
   "id": "bb824ce6fd1ee1e",
   "metadata": {
    "collapsed": false
   },
   "source": [
    "## Introduction\n",
    "This scenario showcases the use of spherical harmonics for higher fidelity modelling of Earth's gravitational field. The scenario propagates a spacecraft in Low Earth Orbit and compares the spacecraft's osculating classical orbit elements with the mean orbital elements calculated using the first order Brower technique outlined in:\n",
    "*Schaub, H., & Junkins, J. L. (2003). First-order Mapping between Mean and Osculating Orbit Elements. In Analytical Mechanics of Space Systems (pp. 693–696)*."
   ]
  },
  {
   "cell_type": "markdown",
   "id": "f4fe3b64f87b7bfd",
   "metadata": {
    "collapsed": false
   },
   "source": [
    "\n",
    "    "
   ]
  },
  {
   "cell_type": "code",
   "execution_count": 1,
   "id": "caaaa5754b508755",
   "metadata": {
    "ExecuteTime": {
     "end_time": "2024-09-03T08:01:21.859377Z",
     "start_time": "2024-09-03T08:01:21.118242Z"
    },
    "collapsed": false
   },
   "outputs": [],
   "source": [
    "import numpy as np\n",
    "import pandas as pd\n",
    "from matplotlib import pyplot as plt\n",
    "\n",
    "from nominalpy import types\n",
    "from nominalpy.maths import astro, utils\n",
    "from nominalpy.maths.constants import RPM\n",
    "# from nominalpy.maths.utils import random_mrp\n",
    "from nominalpy.maths.constellations import CoplanarCircular\n",
    "from nominalpy import Simulation, Object\n",
    "\n",
    "import credential_helper"
   ]
  },
  {
   "cell_type": "code",
   "execution_count": 2,
   "id": "e38a87a099f8518c",
   "metadata": {
    "ExecuteTime": {
     "end_time": "2024-09-03T08:01:21.864893Z",
     "start_time": "2024-09-03T08:01:21.860390Z"
    },
    "collapsed": false
   },
   "outputs": [
    {
     "name": "stdout",
     "output_type": "stream",
     "text": [
      "Number of rows: 180\n"
     ]
    }
   ],
   "source": [
    "# define the simulation constants\n",
    "planet = \"earth\"\n",
    "degree_order = 10\n",
    "req = astro.get_planet_property(planet, 'REQ')\n",
    "j2 = astro.get_planet_property(planet, 'j2')\n",
    "# define the simulation parameters\n",
    "sim_duration = 10800  # s\n",
    "sim_step = 1.0  # s\n",
    "subscribe_step = 60.0  # s\n",
    "\n",
    "rows = int(sim_duration / subscribe_step)\n",
    "print(f\"Number of rows: {rows}\")"
   ]
  },
  {
   "cell_type": "markdown",
   "id": "d2d3b720fa26c6dc",
   "metadata": {
    "collapsed": false
   },
   "source": [
    "## Defining the Initial Conditions\n",
    "In this scenario the initial orbital elements of the spacecraft are set from their mean orbital elements in order to compare the output mean and osculating orbital elements to this input. This is done by defining them within the input variables of the function used to convert them to osculating elements. The initial state of the simulation has to be initialised as an osculating state vector. Therefore, the osculating classical orbital elements can be converted into their equivalent state vector which can then be used to initialise the spacecraft object."
   ]
  },
  {
   "cell_type": "code",
   "execution_count": 3,
   "id": "e363c1778922e0c8",
   "metadata": {
    "ExecuteTime": {
     "end_time": "2024-09-03T08:01:21.878268Z",
     "start_time": "2024-09-03T08:01:21.865907Z"
    },
    "collapsed": false
   },
   "outputs": [],
   "source": [
    "# define the osculating classic orbital elements from input mean elements\n",
    "orbit: tuple = astro.mean_to_osculating_elements(\n",
    "    req=req,  # m^3/s^2\n",
    "    j2=j2,\n",
    "    semi_major_axis=7000000,  # m\n",
    "    eccentricity=0.00001,\n",
    "    inclination=np.radians(30.0),  # rad\n",
    "    right_ascension=np.radians(48.2),  # rad\n",
    "    argument_of_periapsis=np.radians(347.8),  # rad\n",
    "    true_anomaly=np.radians(85.3),  # rad\n",
    "    mean_to_osculating=True,\n",
    ")\n",
    "# convert the osculating elements to state vectors\n",
    "state = astro.classical_to_vector_elements(\n",
    "    semi_major_axis=orbit[0],\n",
    "    eccentricity=orbit[1],\n",
    "    inclination=orbit[2],\n",
    "    right_ascension=orbit[3],\n",
    "    argument_of_periapsis=orbit[4],\n",
    "    true_anomaly=orbit[5],\n",
    "    planet=planet,\n",
    ")"
   ]
  },
  {
   "cell_type": "code",
   "execution_count": 4,
   "id": "d545c3e2d1db95fa",
   "metadata": {
    "ExecuteTime": {
     "end_time": "2024-09-03T08:01:22.420838Z",
     "start_time": "2024-09-03T08:01:21.879282Z"
    },
    "collapsed": false
   },
   "outputs": [],
   "source": [
    "# Construct the credentials\n",
    "credentials = credential_helper.fetch_credentials()\n",
    "\n",
    "# Create a simulation handle\n",
    "simulation: Simulation = Simulation.get(credentials)"
   ]
  },
  {
   "cell_type": "markdown",
   "id": "a6055c8bc801093a",
   "metadata": {
    "collapsed": false
   },
   "source": [
    "## Configuring the Simulation\n",
    "Every simulation has a universe object. We can configure the universe to have a specific epoch.\n",
    "\n",
    "nominalpy enales users to invoke methods to further configure the simulation. In this case, we can set the spherical harmonics for the universe object."
   ]
  },
  {
   "cell_type": "code",
   "execution_count": 5,
   "id": "2d57357465dc7a58",
   "metadata": {
    "ExecuteTime": {
     "end_time": "2024-09-03T08:01:22.898475Z",
     "start_time": "2024-09-03T08:01:22.422852Z"
    },
    "collapsed": false
   },
   "outputs": [
    {
     "data": {
      "text/plain": [
       "'True'"
      ]
     },
     "execution_count": 5,
     "metadata": {},
     "output_type": "execute_result"
    }
   ],
   "source": [
    "from datetime import datetime\n",
    "\n",
    "# configure the universe\n",
    "universe: Object = simulation.get_system(\n",
    "    types.SOLAR_SYSTEM,\n",
    "    Epoch=datetime(2022, 1, 15)\n",
    ")\n",
    "# set the spherical harmonics\n",
    "universe.invoke(\"SetSphericalHarmonics\", planet, degree_order, \"GGM03S.txt\")"
   ]
  },
  {
   "cell_type": "markdown",
   "id": "b9d55d0e7e2bc70",
   "metadata": {
    "collapsed": false
   },
   "source": [
    "## Adding the Spacecraft\n",
    "The spacecraft object is added to the simulation. The spacecraft object is configured with the initial state vector and the spacecraft's properties."
   ]
  },
  {
   "cell_type": "code",
   "execution_count": 6,
   "id": "563c68d8425585c",
   "metadata": {
    "ExecuteTime": {
     "end_time": "2024-09-03T08:01:23.019696Z",
     "start_time": "2024-09-03T08:01:22.900482Z"
    },
    "collapsed": false
   },
   "outputs": [],
   "source": [
    "# configure the spacecraft\n",
    "spacecraft = simulation.add_object(\n",
    "    types.SPACECRAFT,\n",
    "    TotalMass=750.0,  # kg\n",
    "    TotalCenterOfMassB_B=np.array([0, 0, 0]),  # m\n",
    "    TotalMomentOfInertiaB_B=np.diag([900.0, 800.0, 600.0]),  # kg m^2\n",
    "    Position=state[0],\n",
    "    Velocity=state[1],\n",
    "    Attitude=np.array([0.1, 0.2, -0.3]),  # MRP\n",
    "    AttitudeRate=np.array([0.001, -0.01, 0.03]),  # rad/s\n",
    ")"
   ]
  },
  {
   "cell_type": "markdown",
   "id": "b828519150b64975",
   "metadata": {
    "collapsed": false
   },
   "source": [
    "## Subscribing to the Messages\n",
    "The spacecraft object is subscribed to the messages of interest. In this case, the spacecraft is subscribed to the Out_BodyStatesMsg message which gives the translational and rotational states of the spacecraft recorded at a frequency defined by the input subscribe_step."
   ]
  },
  {
   "cell_type": "code",
   "execution_count": 7,
   "id": "29307c52bfae9bda",
   "metadata": {
    "ExecuteTime": {
     "end_time": "2024-09-03T08:01:23.858764Z",
     "start_time": "2024-09-03T08:01:23.021713Z"
    },
    "collapsed": false
   },
   "outputs": [],
   "source": [
    "# subscribe to the messages of interest\n",
    "simulation.set_tracking_interval(subscribe_step)\n",
    "simulation.track_object(spacecraft.get_message(\"Out_SpacecraftStateMsg\"))"
   ]
  },
  {
   "cell_type": "markdown",
   "id": "be35155f5131c567",
   "metadata": {
    "collapsed": false
   },
   "source": [
    "## Propagating the Spacecraft\n",
    "The spacecraft is propagated for a duration defined by the input sim_duration and a step defined by the input sim_step. The spacecraft is propagated in batch mode which will propagate the scenario in batches."
   ]
  },
  {
   "cell_type": "code",
   "execution_count": 8,
   "id": "85d4a57cc467b1a0",
   "metadata": {
    "ExecuteTime": {
     "end_time": "2024-09-03T08:01:25.520088Z",
     "start_time": "2024-09-03T08:01:23.859774Z"
    },
    "collapsed": false
   },
   "outputs": [],
   "source": [
    "# propagate the spacecraft\n",
    "simulation.tick_duration(time=sim_duration, step=sim_step)"
   ]
  },
  {
   "cell_type": "code",
   "execution_count": 9,
   "id": "a1fbfffcafd48978",
   "metadata": {
    "ExecuteTime": {
     "end_time": "2024-09-03T08:01:25.999502Z",
     "start_time": "2024-09-03T08:01:25.521093Z"
    },
    "collapsed": false
   },
   "outputs": [],
   "source": [
    "df_state = simulation.query_dataframe(spacecraft.get_message(\"Out_SpacecraftStateMsg\"))\n",
    "\n",
    "def _convert(x):\n",
    "    r_bn_n=x.loc[[\"Position_BN_N_0\", \"Position_BN_N_1\", \"Position_BN_N_2\"]].values\n",
    "    v_bn_n=x.loc[[\"Velocity_BN_N_0\", \"Velocity_BN_N_1\", \"Velocity_BN_N_2\"]].values\n",
    "    # define the mean classical orbital elements\n",
    "    coe_mean = astro.vector_to_classical_elements_mean(\n",
    "        r_bn_n=r_bn_n,\n",
    "        v_bn_n=v_bn_n,\n",
    "        planet=planet,\n",
    "    )\n",
    "    # define the osculating classical orbital elements\n",
    "    coe = astro.vector_to_classical_elements(\n",
    "        r_bn_n=r_bn_n,\n",
    "        v_bn_n=v_bn_n,\n",
    "        planet=planet,\n",
    "    )\n",
    "    return pd.Series({\n",
    "        \"time\": x[\"Time\"],\n",
    "        \"semi_major_axis_mean\": coe_mean[0],\n",
    "        \"eccentricity_mean\": coe_mean[1],\n",
    "        \"inclination_mean\": coe_mean[2],\n",
    "        \"right_ascension_mean\": coe_mean[3],\n",
    "        \"argument_of_periapsis_mean\": coe_mean[4],\n",
    "        \"true_anomaly_mean\": coe_mean[5],\n",
    "        \"argument_of_latitude_mean\": utils.normalize_angle(coe_mean[4] + coe_mean[5]),\n",
    "        \"semi_major_axis_osc\": coe[0],\n",
    "        \"eccentricity_osc\": coe[1],\n",
    "        \"inclination_osc\": coe[2],\n",
    "        \"right_ascension_osc\": coe[3],\n",
    "        \"argument_of_periapsis_osc\": coe[4],\n",
    "        \"true_anomaly_osc\": coe[5],\n",
    "        \"argument_of_latitude_osc\": utils.normalize_angle(coe[4] + coe[5]),\n",
    "    })\n",
    "\n",
    "df_coe = df_state.apply(_convert, axis=1)"
   ]
  },
  {
   "cell_type": "markdown",
   "id": "d621032da61fe35f",
   "metadata": {
    "collapsed": false
   },
   "source": [
    "## Plotting the Results"
   ]
  },
  {
   "cell_type": "markdown",
   "id": "1b6051c5213e0e51",
   "metadata": {
    "collapsed": false
   },
   "source": [
    "### Plotting the Mean and Osculating Semi-Major Axis\n",
    "The mean and osculating semi-major axis are plotted against time. "
   ]
  },
  {
   "cell_type": "code",
   "execution_count": 10,
   "id": "5bf9e65b61b0ea22",
   "metadata": {
    "ExecuteTime": {
     "end_time": "2024-09-03T08:01:26.127691Z",
     "start_time": "2024-09-03T08:01:26.000516Z"
    },
    "collapsed": false
   },
   "outputs": [
    {
     "data": {
      "text/plain": [
       "<matplotlib.legend.Legend at 0x2076aa5b050>"
      ]
     },
     "execution_count": 10,
     "metadata": {},
     "output_type": "execute_result"
    },
    {
     "data": {
      "image/png": "[encoded data removed]",
      "text/plain": [
       "<Figure size 640x480 with 1 Axes>"
      ]
     },
     "metadata": {},
     "output_type": "display_data"
    }
   ],
   "source": [
    "# plot the mean and osculating semi-major axis\n",
    "fig, ax = plt.subplots()\n",
    "# add the mean semi-major axis to the plot\n",
    "ax.plot(\n",
    "    df_coe.loc[:, \"time\"].values, \n",
    "    df_coe.loc[:, \"semi_major_axis_mean\"].values, \n",
    "    label=\"Mean\"\n",
    ")\n",
    "# add the osculating semi-major axis to the plot\n",
    "ax.plot(\n",
    "    df_coe.loc[:, \"time\"].values, \n",
    "    df_coe.loc[:, \"semi_major_axis_osc\"].values, \n",
    "    label=\"Osculating\"\n",
    ")\n",
    "# add a title to the plot\n",
    "ax.set_title(\"Mean and Osculating Semi-Major Axis\")\n",
    "# add a legend to the plot\n",
    "ax.legend()\n"
   ]
  }
 ],
 "metadata": {
  "kernelspec": {
   "display_name": "Python 3",
   "language": "python",
   "name": "python3"
  },
  "language_info": {
   "codemirror_mode": {
    "name": "ipython",
    "version": 3
   },
   "file_extension": ".py",
   "mimetype": "text/x-python",
   "name": "python",
   "nbconvert_exporter": "python",
   "pygments_lexer": "ipython3",
   "version": "3.11.2"
  }
 },
 "nbformat": 4,
 "nbformat_minor": 5
}
