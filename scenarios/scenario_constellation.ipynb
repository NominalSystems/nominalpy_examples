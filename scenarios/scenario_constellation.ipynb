{
 "cells": [
  {
   "cell_type": "markdown",
   "source": [
    "# Advanced Constellation"
   ],
   "metadata": {
    "collapsed": false
   },
   "id": "7063645f6cf2a2eb"
  },
  {
   "cell_type": "markdown",
   "source": [
    "This example showcases how the constellation utility functions can be leveraged to instantiate a constellation. In this example, a co-planar constellation of five spacecraft is created. Each spacecraft is initialised with a random pointing angle and then commanded to point consistently according to their local Local-Vertical, Local-Horizontal frame."
   ],
   "metadata": {
    "collapsed": false
   },
   "id": "e313195a71f092be"
  },
  {
   "cell_type": "code",
   "execution_count": 5,
   "outputs": [],
   "source": [
    "import numpy as np\n",
    "import pandas as pd\n",
    "from matplotlib import pyplot as plt\n",
    "\n",
    "from nominalpy import types\n",
    "from nominalpy.maths import value, astro, utils\n",
    "from nominalpy.maths.constants import RPM\n",
    "# from nominalpy.maths.utils import random_mrp\n",
    "from nominalpy.maths.constellations import CoplanarCircular\n",
    "from nominalpy import Component, Simulation, Object\n",
    "\n",
    "import credential_helper"
   ],
   "metadata": {
    "collapsed": false,
    "ExecuteTime": {
     "end_time": "2024-02-11T23:21:19.474652600Z",
     "start_time": "2024-02-11T23:21:19.373920500Z"
    }
   },
   "id": "13815eeaa7ef1857"
  },
  {
   "cell_type": "code",
   "execution_count": 6,
   "outputs": [],
   "source": [
    "# define the configuration of the scenario\n",
    "num_spacecraft: int = 5\n",
    "sma0: float = 7000e3 # meters\n",
    "inc0: float = np.radians(45) # radians\n",
    "raan0: float = np.radians(35) # radians\n"
   ],
   "metadata": {
    "collapsed": false,
    "ExecuteTime": {
     "end_time": "2024-02-11T23:21:19.552443800Z",
     "start_time": "2024-02-11T23:21:19.387883100Z"
    }
   },
   "id": "c9293b817797e36"
  },
  {
   "cell_type": "markdown",
   "source": [
    "The components for each spacecraft can be stored in their own separate containers. By storing the component for each spacecraft, the component can be accessed later to connect messages and retrieve data."
   ],
   "metadata": {
    "collapsed": false
   },
   "id": "b635e3862627116a"
  },
  {
   "cell_type": "code",
   "execution_count": 7,
   "outputs": [],
   "source": [
    "# define the containers for the data for all of the spacecraft\n",
    "ext_torque: list = []\n",
    "spacecraft: list = []\n",
    "navigators: list = []\n",
    "attitude_tracking_error_fsws: list = []\n",
    "mrp_feedback_fsws: list = []\n",
    "lvlh_fsws: list = []\n",
    "ephem_converter_fsws: list = []"
   ],
   "metadata": {
    "collapsed": false,
    "ExecuteTime": {
     "end_time": "2024-02-11T23:21:19.573390100Z",
     "start_time": "2024-02-11T23:21:19.431766600Z"
    }
   },
   "id": "bb3b4818cbdd5747"
  },
  {
   "cell_type": "code",
   "execution_count": 8,
   "outputs": [],
   "source": [
    "# Construct the credentials\n",
    "credentials = credential_helper.fetch_credentials()\n",
    "\n",
    "# Create a simulation handle\n",
    "simulation: Simulation = Simulation(credentials)"
   ],
   "metadata": {
    "collapsed": false,
    "ExecuteTime": {
     "end_time": "2024-02-11T23:21:20.415832700Z",
     "start_time": "2024-02-11T23:21:19.447723600Z"
    }
   },
   "id": "36c7341d41851a23"
  },
  {
   "cell_type": "code",
   "execution_count": 9,
   "outputs": [],
   "source": [
    "universe: Object = simulation.get_system(\n",
    "    types.UNIVERSE,\n",
    "    Epoch=value.datetime(2021, 1, 15, hour=0, min=28, sec=30)\n",
    ")"
   ],
   "metadata": {
    "collapsed": false,
    "ExecuteTime": {
     "end_time": "2024-02-11T23:21:20.526050900Z",
     "start_time": "2024-02-11T23:21:20.416830200Z"
    }
   },
   "id": "a49d148dbfe00877"
  },
  {
   "cell_type": "markdown",
   "source": [
    "The co-planar constellation utility class allows the user to calculate the initial state of the spacecraft equispaced about a single plane. The size and orientation of the orbital plane is defined by its semi-major axis, inclination, and right-ascension of the ascending node. Other orbital elements can further define the nature of the orbits and orbital plane, however are not included in this example."
   ],
   "metadata": {
    "collapsed": false
   },
   "id": "5bae9587e434fb55"
  },
  {
   "cell_type": "code",
   "execution_count": 10,
   "outputs": [],
   "source": [
    "# define a coplanar constellation of spacecraft using the utility function provided in nominalpy\n",
    "cons = CoplanarCircular(\n",
    "    semi_major_axis=sma0,\n",
    "    inclination=inc0,\n",
    "    right_ascension=raan0,\n",
    "    argument_of_periapsis=np.radians(25),\n",
    "    true_anomaly=0.0,\n",
    "    num_satellites=num_spacecraft,\n",
    "    init_classical_elements=True,\n",
    ")"
   ],
   "metadata": {
    "collapsed": false,
    "ExecuteTime": {
     "end_time": "2024-02-11T23:21:20.544003200Z",
     "start_time": "2024-02-11T23:21:20.528046Z"
    }
   },
   "id": "91f0a881e61eff16"
  },
  {
   "cell_type": "markdown",
   "source": [
    "The initial state of each spacecraft in the orbit can be returned as orbital elements or state vectors. They can also be calculated as osculating orbital values or the equivalent mean orbital elements/mean state vector. In this case we calculate the state vector directly in its osculating state."
   ],
   "metadata": {
    "collapsed": false
   },
   "id": "4e947d6bf2ae027a"
  },
  {
   "cell_type": "code",
   "execution_count": 11,
   "outputs": [],
   "source": [
    "# define a function to generate a random MRP vector for the initial attitude of the spacecraft\n",
    "\n",
    "def random_mrp():\n",
    "    \"\"\"\n",
    "    Generate a random MRP vector. This function generates a random MRP vector\n",
    "    using the numpy random function. The MRP vector is generated by generating\n",
    "    a random vector and normalizing it.\n",
    "\n",
    "    :returns:   The random MRP vector\n",
    "    :rtype:     np.ndarray\n",
    "    \"\"\"\n",
    "    # Generate a random rotation axis (unit vector)\n",
    "    axis: float = np.random.rand(3)\n",
    "    axis /= np.linalg.norm(axis)\n",
    "\n",
    "    # Generate a random rotation angle in radians\n",
    "    angle: float = np.random.uniform(0, 2 * np.pi)\n",
    "\n",
    "    # Convert angle-axis to quaternion\n",
    "    q0: float = np.cos(angle / 2)\n",
    "    q_vec: float = axis * np.sin(angle / 2)\n",
    "\n",
    "    # Convert quaternion to MRP\n",
    "    mrp = q_vec / (1 + q0)\n",
    "    # return the random mrp\n",
    "    return mrp\n"
   ],
   "metadata": {
    "collapsed": false,
    "ExecuteTime": {
     "end_time": "2024-02-11T23:21:20.577912300Z",
     "start_time": "2024-02-11T23:21:20.546995300Z"
    }
   },
   "id": "7605eb9c4311931e"
  },
  {
   "cell_type": "code",
   "execution_count": 12,
   "outputs": [],
   "source": [
    "for _, vectors in cons.init_state_vectors_osculating(planet=\"earth\").items():\n",
    "    # create the spacecraft and initialise it with its orbit\n",
    "    sc = simulation.add_component(\n",
    "        types.SPACECRAFT,\n",
    "        TotalMass=4.0,  # kg\n",
    "        TotalCenterOfMassB_B=np.array((0, 0, 0)),\n",
    "        TotalMomentOfInertiaB_B=np.diag([0.02 / 3.0, 0.1256 / 3.0, 0.1256 / 3.0]),  # kg m^2\n",
    "        Position=vectors[\"r_bn_n\"],\n",
    "        Velocity=vectors[\"v_bn_n\"],\n",
    "        # set default values, these will have to be updated for every test case\n",
    "        Attitude=random_mrp(),\n",
    "        AttitudeRate=np.array((0.0, 0.0, 0.0))\n",
    "    )\n",
    "    spacecraft.append(sc)\n",
    "    "
   ],
   "metadata": {
    "collapsed": false,
    "ExecuteTime": {
     "end_time": "2024-02-11T23:21:20.894066600Z",
     "start_time": "2024-02-11T23:21:20.562953400Z"
    }
   },
   "id": "cff5555ecea1928a"
  },
  {
   "cell_type": "code",
   "execution_count": 13,
   "outputs": [],
   "source": [
    "# set the flight software for every spacecraft in the constellation\n",
    "for i, sc in enumerate(spacecraft):\n",
    "\n",
    "    # set the navigation flight software\n",
    "    navigators.append(\n",
    "        simulation.add_component(\n",
    "            \"SimpleNavigator\",\n",
    "            sc,\n",
    "            In_BodyStateMsg=sc.get_message(\"Out_BodyStatesMsg\").id,\n",
    "            In_SunStateMsg=simulation.get_planet_message(planet=\"sun\").id,\n",
    "        )\n",
    "    )\n",
    "    # add the flight software to convert Earth location to a useable ephemeris\n",
    "    ephem_converter_fsws.append(\n",
    "        simulation.add_component(\n",
    "            \"EphemerisNavigationConverterSoftware\",\n",
    "            sc,\n",
    "            In_SpicePlanetStateMsg=simulation.get_planet_message(planet=\"earth\").id,\n",
    "        )\n",
    "    )\n",
    "    # add the LVLH reference frame flight software\n",
    "    lvlh_fsws.append(\n",
    "        simulation.add_component(\n",
    "            \"LVLHPointingSoftware\",\n",
    "            sc,\n",
    "            In_NavTransMsg=navigators[i].get_message(\"Out_NavTransMsg\").id,\n",
    "            In_EphemerisMsg=ephem_converter_fsws[i].get_message(\"Out_EphemerisMsg\").id,\n",
    "        )\n",
    "    )\n",
    "    # add the tracking error software\n",
    "    attitude_tracking_error_fsws.append(\n",
    "        simulation.add_component(\n",
    "            \"AttitudeTrackingErrorSoftware\",\n",
    "            sc,\n",
    "            In_NavAttMsg=navigators[i].get_message(\"Out_NavAttMsg\").id,\n",
    "            In_AttRefMsg=lvlh_fsws[i].get_message(\"Out_AttRefMsg\").id,\n",
    "        )\n",
    "    )\n",
    "    # add the MRP feedback software\n",
    "    ki = -1.0\n",
    "    decay_time = 10.0\n",
    "    xi = 1.0\n",
    "    P = (0.1256 / 3) / decay_time\n",
    "    mrp_feedback_fsws.append(\n",
    "        simulation.add_component(\n",
    "            \"MRPFeedbackSoftware\",\n",
    "            sc,\n",
    "            K=(P / xi) * (P / xi) / (0.1256 / 3),\n",
    "            P=P,\n",
    "            Ki=ki,\n",
    "            IntegralLimit=2.0 / ki * 0.1,\n",
    "            In_AttGuidMsg=attitude_tracking_error_fsws[i].get_message(\"Out_AttGuidMsg\").id,\n",
    "            In_VehicleConfigMsg=sc.get_message(\"Out_VehicleConfigMsg\").id,\n",
    "        )\n",
    "    )\n",
    "    # connect the external force torque to the mrp feedback software\n",
    "    # add the external force torque\n",
    "    ext_torque.append(\n",
    "        simulation.add_component(\n",
    "            \"ExternalForceTorque\",\n",
    "            sc,\n",
    "            In_CmdTorqueBodyMsg=mrp_feedback_fsws[i].get_message(\"Out_CmdTorqueBodyMsg\").id,\n",
    "        )\n",
    "    )\n"
   ],
   "metadata": {
    "collapsed": false,
    "ExecuteTime": {
     "end_time": "2024-02-11T23:21:22.675405300Z",
     "start_time": "2024-02-11T23:21:20.894066600Z"
    }
   },
   "id": "3990c2a4c39ddfef"
  },
  {
   "cell_type": "code",
   "execution_count": 14,
   "outputs": [],
   "source": [
    "subscribe_step = 5.0\n",
    "for k, sc in enumerate(spacecraft):\n",
    "    sc.get_message(\"Out_BodyMassPropsMsg\").subscribe(subscribe_step)\n",
    "    sc.get_message(\"Out_BodyStatesMsg\").subscribe(subscribe_step)\n",
    "    attitude_tracking_error_fsws[k].get_message(\"Out_AttGuidMsg\").subscribe(subscribe_step)\n",
    "    mrp_feedback_fsws[k].get_message(\"Out_CmdTorqueBodyMsg\").subscribe(subscribe_step)\n",
    "    navigators[k].get_message(\"Out_NavAttMsg\").subscribe(subscribe_step)\n"
   ],
   "metadata": {
    "collapsed": false,
    "ExecuteTime": {
     "end_time": "2024-02-11T23:21:24.299375100Z",
     "start_time": "2024-02-11T23:21:22.675405300Z"
    }
   },
   "id": "ebb02e19f64f878c"
  },
  {
   "cell_type": "code",
   "execution_count": 15,
   "outputs": [],
   "source": [
    "# run the scenario\n",
    "simulation.tick_duration(duration=400, step=0.1)"
   ],
   "metadata": {
    "collapsed": false,
    "ExecuteTime": {
     "end_time": "2024-02-11T23:22:19.701364500Z",
     "start_time": "2024-02-11T23:21:24.292394600Z"
    }
   },
   "id": "38645c005620991b"
  },
  {
   "cell_type": "code",
   "execution_count": 16,
   "outputs": [],
   "source": [
    "# fetch the data as a dataframe and concatenate the frames into a single frame for each spacecraft\n",
    "dfs_att = [at.get_message(\"Out_AttGuidMsg\").fetch_df() for at in attitude_tracking_error_fsws]\n",
    "df_att0 = dfs_att[0]\n",
    "df_body_state = pd.concat([sc.get_message(\"Out_BodyStatesMsg\").fetch_df() for sc in spacecraft])\n",
    "df_att = pd.concat(\n",
    "    [at.get_message(\"Out_AttGuidMsg\").fetch_df() for at in attitude_tracking_error_fsws],\n",
    "    keys=[i for i in range(len(attitude_tracking_error_fsws))]\n",
    ")\n",
    "# set the names of the indices\n",
    "df_att.index = df_att.index.set_names([\"sc_num\", \"index\"])\n",
    "df_att = df_att.reset_index(drop=False).set_index([\"sc_num\", \"time\"]).drop(columns=[\"index\"])\n"
   ],
   "metadata": {
    "collapsed": false,
    "ExecuteTime": {
     "end_time": "2024-02-11T23:22:20.503706100Z",
     "start_time": "2024-02-11T23:22:19.700363500Z"
    }
   },
   "id": "f8d08cac9810c724"
  },
  {
   "cell_type": "markdown",
   "source": [
    "If we plot the magnitude of the attitude tracking error for all spacecraft on one plot, we can see that the attitude of the spacecraft converges onto the target attitude for all spacecraft irrespective of their initial attitude."
   ],
   "metadata": {
    "collapsed": false
   },
   "id": "5dd77b3905e343c2"
  },
  {
   "cell_type": "code",
   "execution_count": 17,
   "outputs": [
    {
     "data": {
      "text/plain": "<Figure size 432x288 with 1 Axes>",
      "image/png": "[encoded data removed]"
     },
     "metadata": {
      "needs_background": "light"
     },
     "output_type": "display_data"
    }
   ],
   "source": [
    "# plot the magnitude of the attitude tracking error for each spacecraft in the constellation\n",
    "fig, ax = plt.subplots()\n",
    "for j, sc in enumerate(spacecraft):\n",
    "    ax.plot(\n",
    "        df_att.loc[df_att.index.get_level_values(\"sc_num\") == j].index.get_level_values(\"time\").values,\n",
    "        np.linalg.norm(\n",
    "            df_att.loc[df_att.index.get_level_values(\"sc_num\") == j, [\"Sigma_BR_0\", \"Sigma_BR_1\", \"Sigma_BR_2\"]],\n",
    "            axis=1\n",
    "        ),\n",
    "        label=f\"Spacecraft {j + 1}\"\n",
    "    )\n"
   ],
   "metadata": {
    "collapsed": false,
    "ExecuteTime": {
     "end_time": "2024-02-11T23:22:20.720895200Z",
     "start_time": "2024-02-11T23:22:20.508693800Z"
    }
   },
   "id": "b003d2f25df47788"
  }
 ],
 "metadata": {
  "kernelspec": {
   "display_name": "Python 3",
   "language": "python",
   "name": "python3"
  },
  "language_info": {
   "codemirror_mode": {
    "name": "ipython",
    "version": 2
   },
   "file_extension": ".py",
   "mimetype": "text/x-python",
   "name": "python",
   "nbconvert_exporter": "python",
   "pygments_lexer": "ipython2",
   "version": "2.7.6"
  }
 },
 "nbformat": 4,
 "nbformat_minor": 5
}
